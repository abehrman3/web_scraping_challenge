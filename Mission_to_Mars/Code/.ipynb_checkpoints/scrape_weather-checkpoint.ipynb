{
 "cells": [
  {
   "cell_type": "code",
   "execution_count": 76,
   "metadata": {},
   "outputs": [],
   "source": [
    "# Run required imports\n",
    "from splinter import Browser\n",
    "from bs4 import BeautifulSoup as bs\n",
    "import time\n"
   ]
  },
  {
   "cell_type": "code",
   "execution_count": 77,
   "metadata": {},
   "outputs": [],
   "source": [
    "def init_browser():\n",
    "    executable_path = {\"executable_path\": \"/usr/local/bin/chromedriver\"}\n",
    "    return Browser(\"chrome\", **executable_path, headless=False)"
   ]
  },
  {
   "cell_type": "code",
   "execution_count": 78,
   "metadata": {},
   "outputs": [],
   "source": [
    "def scrape_weather():\n",
    "    browser = init_browser()\n",
    "\n",
    "    # Visit the nasa site to find latest articles\n",
    "    news_url = \"https://twitter.com/marswxreport?lang=en\"\n",
    "    browser.visit(news_url)\n",
    "\n",
    "    time.sleep(1)\n",
    "\n",
    "    # Scrape page using beautiful_soup\n",
    "    html=browser.html\n",
    "    soup=bs(html, 'html.parser')\n",
    "\n",
    "    # Find the weather tweets that include Insight sol - weather\n",
    "    # Add each weather tweet instance to a list\n",
    "    weather_data=[]\n",
    "    for weather_tweet in soup.find_all(\"p\"):\n",
    "        if not \"InSight sol\" in weather_tweet.text:continue\n",
    "        weather_data.append(weather_tweet.text)\n",
    "        \n",
    "    #Provide me the first instance of a weather tweet \n",
    "    mars_weather = weather_data[0]\n",
    "    print(mars_weather)\n",
    "    \n",
    "    browser.quit()\n",
    "    \n",
    "    #return results\n",
    "    return mars_weather\n",
    "    "
   ]
  },
  {
   "cell_type": "code",
   "execution_count": 79,
   "metadata": {},
   "outputs": [
    {
     "name": "stdout",
     "output_type": "stream",
     "text": [
      "InSight sol 265 (2019-08-25) low -99.4ºC (-146.9ºF) high -26.3ºC (-15.3ºF)\n",
      "winds from the SSE at 5.3 m/s (12.0 mph) gusting to 16.1 m/s (35.9 mph)\n",
      "pressure at 7.50 hPapic.twitter.com/9YLawm67zS\n"
     ]
    },
    {
     "data": {
      "text/plain": [
       "'InSight sol 265 (2019-08-25) low -99.4ºC (-146.9ºF) high -26.3ºC (-15.3ºF)\\nwinds from the SSE at 5.3 m/s (12.0 mph) gusting to 16.1 m/s (35.9 mph)\\npressure at 7.50 hPapic.twitter.com/9YLawm67zS'"
      ]
     },
     "execution_count": 79,
     "metadata": {},
     "output_type": "execute_result"
    }
   ],
   "source": [
    "scrape_weather()"
   ]
  },
  {
   "cell_type": "code",
   "execution_count": null,
   "metadata": {},
   "outputs": [],
   "source": []
  }
 ],
 "metadata": {
  "kernelspec": {
   "display_name": "PythonData",
   "language": "python",
   "name": "pythondata"
  },
  "language_info": {
   "codemirror_mode": {
    "name": "ipython",
    "version": 3
   },
   "file_extension": ".py",
   "mimetype": "text/x-python",
   "name": "python",
   "nbconvert_exporter": "python",
   "pygments_lexer": "ipython3",
   "version": "3.6.9"
  }
 },
 "nbformat": 4,
 "nbformat_minor": 2
}
