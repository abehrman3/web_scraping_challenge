{
 "cells": [
  {
   "cell_type": "code",
   "execution_count": 1,
   "metadata": {},
   "outputs": [],
   "source": [
    "# Run required imports\n",
    "from splinter import Browser\n",
    "from bs4 import BeautifulSoup as bs\n",
    "import time\n"
   ]
  },
  {
   "cell_type": "code",
   "execution_count": 2,
   "metadata": {},
   "outputs": [],
   "source": [
    "def init_browser():\n",
    "    executable_path = {\"executable_path\": \"/usr/local/bin/chromedriver\"}\n",
    "    return Browser(\"chrome\", **executable_path, headless=False)"
   ]
  },
  {
   "cell_type": "code",
   "execution_count": 3,
   "metadata": {},
   "outputs": [],
   "source": [
    "def scrape_weather():\n",
    "    browser = init_browser()\n",
    "\n",
    "    # Visit the nasa site to find latest articles\n",
    "    news_url = \"https://twitter.com/marswxreport?lang=en\"\n",
    "    browser.visit(news_url)\n",
    "\n",
    "    time.sleep(1)\n",
    "\n",
    "    # Scrape page using beautiful_soup\n",
    "    html=browser.html\n",
    "    soup=bs(html, 'html.parser')\n",
    "\n",
    "    # Find the weather tweets that include Insight sol - weather\n",
    "    # Add each weather tweet instance to a list\n",
    "    weather_data=[]\n",
    "    for weather_tweet in soup.find_all(\"p\"):\n",
    "        if not \"InSight sol\" in weather_tweet.text:continue\n",
    "        weather_data.append(weather_tweet.text)\n",
    "        \n",
    "    #Provide me the first instance of a weather tweet \n",
    "    mars_weather = weather_data[0]\n",
    "    print(mars_weather)\n",
    "    \n",
    "    browser.quit()\n",
    "    \n",
    "    #return results\n",
    "    return mars_weather\n",
    "    "
   ]
  },
  {
   "cell_type": "code",
   "execution_count": 4,
   "metadata": {},
   "outputs": [
    {
     "name": "stdout",
     "output_type": "stream",
     "text": [
      "InSight sol 286 (2019-09-16) low -101.2ºC (-150.1ºF) high -26.5ºC (-15.8ºF)\n",
      "winds from the SSE at 5.1 m/s (11.4 mph) gusting to 16.9 m/s (37.8 mph)\n",
      "pressure at 7.50 hPapic.twitter.com/IwmMx5rD78\n"
     ]
    },
    {
     "data": {
      "text/plain": [
       "'InSight sol 286 (2019-09-16) low -101.2ºC (-150.1ºF) high -26.5ºC (-15.8ºF)\\nwinds from the SSE at 5.1 m/s (11.4 mph) gusting to 16.9 m/s (37.8 mph)\\npressure at 7.50 hPapic.twitter.com/IwmMx5rD78'"
      ]
     },
     "execution_count": 4,
     "metadata": {},
     "output_type": "execute_result"
    }
   ],
   "source": [
    "scrape_weather()"
   ]
  },
  {
   "cell_type": "code",
   "execution_count": null,
   "metadata": {},
   "outputs": [],
   "source": []
  }
 ],
 "metadata": {
  "kernelspec": {
   "display_name": "PythonData",
   "language": "python",
   "name": "pythondata"
  },
  "language_info": {
   "codemirror_mode": {
    "name": "ipython",
    "version": 3
   },
   "file_extension": ".py",
   "mimetype": "text/x-python",
   "name": "python",
   "nbconvert_exporter": "python",
   "pygments_lexer": "ipython3",
   "version": "3.6.9"
  }
 },
 "nbformat": 4,
 "nbformat_minor": 2
}
