{
 "cells": [
  {
   "cell_type": "code",
   "execution_count": 1,
   "metadata": {},
   "outputs": [],
   "source": [
    "# Run required imports\n",
    "from splinter import Browser\n",
    "from bs4 import BeautifulSoup as bs\n",
    "import time\n"
   ]
  },
  {
   "cell_type": "code",
   "execution_count": 2,
   "metadata": {},
   "outputs": [],
   "source": [
    "def init_browser():\n",
    "    executable_path = {\"executable_path\": \"/usr/local/bin/chromedriver\"}\n",
    "    return Browser(\"chrome\", **executable_path, headless=False)"
   ]
  },
  {
   "cell_type": "code",
   "execution_count": 15,
   "metadata": {},
   "outputs": [],
   "source": [
    "def scrape_news():\n",
    "    browser = init_browser()\n",
    "\n",
    "    # Visit the nasa site to find latest articles\n",
    "    news_url = \"https://mars.nasa.gov/news/?page=0&per_page=40&order=publish_date+desc%2Ccreated_at+desc&search=&category=19%2C165%2C184%2C204&blank_scope=Latest\"\n",
    "    browser.visit(news_url)\n",
    "\n",
    "    time.sleep(1)\n",
    "\n",
    "    # Scrape page using beautiful_soup\n",
    "    html=browser.html\n",
    "    soup=bs(html, 'html.parser')\n",
    "\n",
    "    # Find the first article available\n",
    "    news_article = soup.find('div', class_='content_title')\n",
    "    news_p = soup.find('div', class_='article_teaser_body')\n",
    "    print(news_article.text)\n",
    "    \n",
    "     # Store data in a dictionary\n",
    "    nasa_news = [{\n",
    "        \"news_article\": news_article,\n",
    "        \"news_p\": news_p,\n",
    "    }]\n",
    "    print(nasa_news)\n",
    "    browser.quit()\n",
    "    \n",
    "    #return results\n",
    "    return news_article, news_p\n",
    "    \n",
    "    "
   ]
  },
  {
   "cell_type": "code",
   "execution_count": 16,
   "metadata": {},
   "outputs": [
    {
     "name": "stdout",
     "output_type": "stream",
     "text": [
      "NASA's Mars 2020 Comes Full Circle\n",
      "[{'news_article': <div class=\"content_title\"><a href=\"/news/8509/nasas-mars-2020-comes-full-circle/\" target=\"_self\">NASA's Mars 2020 Comes Full Circle</a></div>, 'news_p': <div class=\"article_teaser_body\">Aiming to pinpoint the Martian vehicle's center of gravity, engineers took NASA's 2,300-pound Mars 2020 rover for a spin in the clean room at JPL. </div>}]\n"
     ]
    },
    {
     "data": {
      "text/plain": [
       "(<div class=\"content_title\"><a href=\"/news/8509/nasas-mars-2020-comes-full-circle/\" target=\"_self\">NASA's Mars 2020 Comes Full Circle</a></div>,\n",
       " <div class=\"article_teaser_body\">Aiming to pinpoint the Martian vehicle's center of gravity, engineers took NASA's 2,300-pound Mars 2020 rover for a spin in the clean room at JPL. </div>)"
      ]
     },
     "execution_count": 16,
     "metadata": {},
     "output_type": "execute_result"
    }
   ],
   "source": [
    "scrape_news()"
   ]
  },
  {
   "cell_type": "code",
   "execution_count": null,
   "metadata": {},
   "outputs": [],
   "source": []
  }
 ],
 "metadata": {
  "kernelspec": {
   "display_name": "PythonData",
   "language": "python",
   "name": "pythondata"
  },
  "language_info": {
   "codemirror_mode": {
    "name": "ipython",
    "version": 3
   },
   "file_extension": ".py",
   "mimetype": "text/x-python",
   "name": "python",
   "nbconvert_exporter": "python",
   "pygments_lexer": "ipython3",
   "version": "3.6.9"
  }
 },
 "nbformat": 4,
 "nbformat_minor": 2
}
